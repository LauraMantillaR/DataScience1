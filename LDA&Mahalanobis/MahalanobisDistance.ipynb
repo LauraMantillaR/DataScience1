{
 "cells": [
  {
   "attachments": {},
   "cell_type": "markdown",
   "metadata": {},
   "source": [
    "Mahalanobis Distance:"
   ]
  },
  {
   "attachments": {},
   "cell_type": "markdown",
   "metadata": {},
   "source": [
    "###### Is a distance between a data (vector) and a distribution. It's useful in multivariate anomaly detection and classification.\n",
    "\n",
    "###### Note: Euclidean distance will work great as long as the features are equally important and are independent to each other.\n",
    "\n",
    "###### $D^2 = \\sqrt{(\\mathbf{X_p1}-\\mathbf{X_p2})^T \\mathbf{C}^{-1} (\\mathbf{X_p1}-\\mathbf{X_p2})}$\n",
    "\n",
    "###### $\\mathbf{X_p1}$ represent coordinates of observations in n-dimensional space.."
   ]
  }
 ],
 "metadata": {
  "kernelspec": {
   "display_name": "base",
   "language": "python",
   "name": "python3"
  },
  "language_info": {
   "codemirror_mode": {
    "name": "ipython",
    "version": 3
   },
   "file_extension": ".py",
   "mimetype": "text/x-python",
   "name": "python",
   "nbconvert_exporter": "python",
   "pygments_lexer": "ipython3",
   "version": "3.9.13"
  },
  "orig_nbformat": 4,
  "vscode": {
   "interpreter": {
    "hash": "e6f7f6c17190faf99dfe437bc19476375e3265e72065d05b4045299b29ac86fd"
   }
  }
 },
 "nbformat": 4,
 "nbformat_minor": 2
}
