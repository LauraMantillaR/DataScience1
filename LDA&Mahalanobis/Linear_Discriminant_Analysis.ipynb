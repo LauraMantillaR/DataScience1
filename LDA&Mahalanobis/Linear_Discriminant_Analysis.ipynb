{
 "cells": [
  {
   "attachments": {},
   "cell_type": "markdown",
   "metadata": {},
   "source": [
    "Predictive Models:"
   ]
  },
  {
   "attachments": {},
   "cell_type": "markdown",
   "metadata": {},
   "source": [
    "###### Within the predictive models, the classification and segmentation techniques extract:\n",
    "\n",
    "###### - Behavior profiles or classes where the objective is to build a model that allows classifying any new data."
   ]
  },
  {
   "attachments": {},
   "cell_type": "markdown",
   "metadata": {},
   "source": [
    "Discriminant Analysis:\n",
    "\n",
    "###### Find one or more functions that separates two regions or that helps to discriminate between different groups.\n",
    "\n",
    "###### Discriminant analysis is an ad hoc predictive classification technique.\n",
    "###### It's called ad hoc because the groups are previously known before performing the classification."
   ]
  },
  {
   "attachments": {},
   "cell_type": "markdown",
   "metadata": {},
   "source": [
    "Steps in Discriminant Analysis:\n",
    "\n",
    "###### 1. Form groups\n",
    "###### 2. Estimate discriminant function\n",
    "###### 3. Determine significance of function and variables\n",
    "###### 4. Interpret the discriminant function\n",
    "###### 5. Perform classification and validation"
   ]
  },
  {
   "attachments": {},
   "cell_type": "markdown",
   "metadata": {},
   "source": [
    "LDA: \n",
    "###### It's a dimension reduction method since it takes $n$ independent variables from the data set and extracts an amount $p<=n$ new independent variables that contribute to the class separation of the dependent variable.\n",
    "###### Note: the original dimension is $n$ and the reduced dimension is $p$"
   ]
  },
  {
   "attachments": {},
   "cell_type": "markdown",
   "metadata": {},
   "source": [
    "LDA Process: \n",
    "\n",
    "###### Computes the $d%-dimensional mean vectors for the different classes of the data set.\n",
    "###### Computes the scatter matrices (between classes and within classes).\n",
    "###### Computes the eigenvectors $(e1,e1,...,ed)$ and their corresponding eigenvalues $(l1,l2,...,ld)$ for the scatter matrices.\n",
    "###### Sorts the eigenvectors in decreasing order of eigenvalues and selects the $k$ eigenvectors with the largest values to form a matrix of dimension $d*k$ called $W$ (where each column represents an eigenvector).\n",
    "###### Use the $d*k$ matrix of eigenvectors to transform the samples into a new subspace. This can be summarized by matrix multiplication $Y=X*W$ (where $X$ is a matrix $n*d$ representing the $n$ samples and $Y$ is the transform $n*k$ of the samples in the new sub space)."
   ]
  }
 ],
 "metadata": {
  "kernelspec": {
   "display_name": "base",
   "language": "python",
   "name": "python3"
  },
  "language_info": {
   "codemirror_mode": {
    "name": "ipython",
    "version": 3
   },
   "file_extension": ".py",
   "mimetype": "text/x-python",
   "name": "python",
   "nbconvert_exporter": "python",
   "pygments_lexer": "ipython3",
   "version": "3.9.13"
  },
  "orig_nbformat": 4,
  "vscode": {
   "interpreter": {
    "hash": "e6f7f6c17190faf99dfe437bc19476375e3265e72065d05b4045299b29ac86fd"
   }
  }
 },
 "nbformat": 4,
 "nbformat_minor": 2
}
